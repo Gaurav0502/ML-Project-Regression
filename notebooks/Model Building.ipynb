{
 "cells": [
  {
   "cell_type": "markdown",
   "metadata": {},
   "source": [
    "# Importing the required modules"
   ]
  },
  {
   "cell_type": "code",
   "execution_count": 4,
   "metadata": {},
   "outputs": [],
   "source": [
    "import pandas as pd\n",
    "import numpy as np\n",
    "import matplotlib.pyplot as plt\n",
    "import seaborn as sns\n",
    "from sklearn.linear_model import LinearRegression\n",
    "import statsmodels.api as sm"
   ]
  },
  {
   "cell_type": "markdown",
   "metadata": {},
   "source": [
    "# Reading the Train Dataset"
   ]
  },
  {
   "cell_type": "code",
   "execution_count": 5,
   "metadata": {},
   "outputs": [],
   "source": [
    "train = pd.read_csv(r\"C:\\Users\\mitug\\ML-Project-Regression\\data\\train.csv\")"
   ]
  },
  {
   "cell_type": "code",
   "execution_count": 6,
   "metadata": {},
   "outputs": [
    {
     "data": {
      "text/html": [
       "<div>\n",
       "<style scoped>\n",
       "    .dataframe tbody tr th:only-of-type {\n",
       "        vertical-align: middle;\n",
       "    }\n",
       "\n",
       "    .dataframe tbody tr th {\n",
       "        vertical-align: top;\n",
       "    }\n",
       "\n",
       "    .dataframe thead th {\n",
       "        text-align: right;\n",
       "    }\n",
       "</style>\n",
       "<table border=\"1\" class=\"dataframe\">\n",
       "  <thead>\n",
       "    <tr style=\"text-align: right;\">\n",
       "      <th></th>\n",
       "      <th>Unnamed: 0</th>\n",
       "      <th>Sex</th>\n",
       "      <th>Length</th>\n",
       "      <th>Diameter</th>\n",
       "      <th>Height</th>\n",
       "      <th>Weight</th>\n",
       "      <th>Shucked Weight</th>\n",
       "      <th>Viscera Weight</th>\n",
       "      <th>Shell Weight</th>\n",
       "      <th>Age</th>\n",
       "    </tr>\n",
       "  </thead>\n",
       "  <tbody>\n",
       "    <tr>\n",
       "      <th>0</th>\n",
       "      <td>3814</td>\n",
       "      <td>1</td>\n",
       "      <td>1.4375</td>\n",
       "      <td>1.1875</td>\n",
       "      <td>0.4000</td>\n",
       "      <td>31.581343</td>\n",
       "      <td>14.047177</td>\n",
       "      <td>7.781938</td>\n",
       "      <td>8.221355</td>\n",
       "      <td>9</td>\n",
       "    </tr>\n",
       "    <tr>\n",
       "      <th>1</th>\n",
       "      <td>457</td>\n",
       "      <td>1</td>\n",
       "      <td>1.0625</td>\n",
       "      <td>0.7625</td>\n",
       "      <td>0.2750</td>\n",
       "      <td>10.177471</td>\n",
       "      <td>4.904464</td>\n",
       "      <td>2.480581</td>\n",
       "      <td>2.764076</td>\n",
       "      <td>9</td>\n",
       "    </tr>\n",
       "    <tr>\n",
       "      <th>2</th>\n",
       "      <td>2404</td>\n",
       "      <td>0</td>\n",
       "      <td>1.5500</td>\n",
       "      <td>1.2000</td>\n",
       "      <td>0.4500</td>\n",
       "      <td>32.049110</td>\n",
       "      <td>14.982711</td>\n",
       "      <td>7.526792</td>\n",
       "      <td>8.674947</td>\n",
       "      <td>12</td>\n",
       "    </tr>\n",
       "    <tr>\n",
       "      <th>3</th>\n",
       "      <td>3828</td>\n",
       "      <td>0</td>\n",
       "      <td>1.2375</td>\n",
       "      <td>0.9500</td>\n",
       "      <td>0.3375</td>\n",
       "      <td>14.444070</td>\n",
       "      <td>5.854172</td>\n",
       "      <td>3.302717</td>\n",
       "      <td>4.677668</td>\n",
       "      <td>8</td>\n",
       "    </tr>\n",
       "    <tr>\n",
       "      <th>4</th>\n",
       "      <td>3029</td>\n",
       "      <td>0</td>\n",
       "      <td>0.7250</td>\n",
       "      <td>0.5250</td>\n",
       "      <td>0.1750</td>\n",
       "      <td>3.160969</td>\n",
       "      <td>1.360776</td>\n",
       "      <td>0.581165</td>\n",
       "      <td>0.850485</td>\n",
       "      <td>5</td>\n",
       "    </tr>\n",
       "  </tbody>\n",
       "</table>\n",
       "</div>"
      ],
      "text/plain": [
       "   Unnamed: 0  Sex  Length  Diameter  Height     Weight  Shucked Weight  \\\n",
       "0        3814    1  1.4375    1.1875  0.4000  31.581343       14.047177   \n",
       "1         457    1  1.0625    0.7625  0.2750  10.177471        4.904464   \n",
       "2        2404    0  1.5500    1.2000  0.4500  32.049110       14.982711   \n",
       "3        3828    0  1.2375    0.9500  0.3375  14.444070        5.854172   \n",
       "4        3029    0  0.7250    0.5250  0.1750   3.160969        1.360776   \n",
       "\n",
       "   Viscera Weight  Shell Weight  Age  \n",
       "0        7.781938      8.221355    9  \n",
       "1        2.480581      2.764076    9  \n",
       "2        7.526792      8.674947   12  \n",
       "3        3.302717      4.677668    8  \n",
       "4        0.581165      0.850485    5  "
      ]
     },
     "execution_count": 6,
     "metadata": {},
     "output_type": "execute_result"
    }
   ],
   "source": [
    "train.head()"
   ]
  },
  {
   "cell_type": "code",
   "execution_count": 7,
   "metadata": {},
   "outputs": [],
   "source": [
    "Y_train = train['Age']\n",
    "X_train = train[train.columns.delete(-1)]"
   ]
  },
  {
   "cell_type": "code",
   "execution_count": 8,
   "metadata": {},
   "outputs": [
    {
     "data": {
      "text/html": [
       "<div>\n",
       "<style scoped>\n",
       "    .dataframe tbody tr th:only-of-type {\n",
       "        vertical-align: middle;\n",
       "    }\n",
       "\n",
       "    .dataframe tbody tr th {\n",
       "        vertical-align: top;\n",
       "    }\n",
       "\n",
       "    .dataframe thead th {\n",
       "        text-align: right;\n",
       "    }\n",
       "</style>\n",
       "<table border=\"1\" class=\"dataframe\">\n",
       "  <thead>\n",
       "    <tr style=\"text-align: right;\">\n",
       "      <th></th>\n",
       "      <th>Unnamed: 0</th>\n",
       "      <th>Sex</th>\n",
       "      <th>Length</th>\n",
       "      <th>Diameter</th>\n",
       "      <th>Height</th>\n",
       "      <th>Weight</th>\n",
       "      <th>Shucked Weight</th>\n",
       "      <th>Viscera Weight</th>\n",
       "      <th>Shell Weight</th>\n",
       "    </tr>\n",
       "  </thead>\n",
       "  <tbody>\n",
       "    <tr>\n",
       "      <th>0</th>\n",
       "      <td>3814</td>\n",
       "      <td>1</td>\n",
       "      <td>1.4375</td>\n",
       "      <td>1.1875</td>\n",
       "      <td>0.4000</td>\n",
       "      <td>31.581343</td>\n",
       "      <td>14.047177</td>\n",
       "      <td>7.781938</td>\n",
       "      <td>8.221355</td>\n",
       "    </tr>\n",
       "    <tr>\n",
       "      <th>1</th>\n",
       "      <td>457</td>\n",
       "      <td>1</td>\n",
       "      <td>1.0625</td>\n",
       "      <td>0.7625</td>\n",
       "      <td>0.2750</td>\n",
       "      <td>10.177471</td>\n",
       "      <td>4.904464</td>\n",
       "      <td>2.480581</td>\n",
       "      <td>2.764076</td>\n",
       "    </tr>\n",
       "    <tr>\n",
       "      <th>2</th>\n",
       "      <td>2404</td>\n",
       "      <td>0</td>\n",
       "      <td>1.5500</td>\n",
       "      <td>1.2000</td>\n",
       "      <td>0.4500</td>\n",
       "      <td>32.049110</td>\n",
       "      <td>14.982711</td>\n",
       "      <td>7.526792</td>\n",
       "      <td>8.674947</td>\n",
       "    </tr>\n",
       "    <tr>\n",
       "      <th>3</th>\n",
       "      <td>3828</td>\n",
       "      <td>0</td>\n",
       "      <td>1.2375</td>\n",
       "      <td>0.9500</td>\n",
       "      <td>0.3375</td>\n",
       "      <td>14.444070</td>\n",
       "      <td>5.854172</td>\n",
       "      <td>3.302717</td>\n",
       "      <td>4.677668</td>\n",
       "    </tr>\n",
       "    <tr>\n",
       "      <th>4</th>\n",
       "      <td>3029</td>\n",
       "      <td>0</td>\n",
       "      <td>0.7250</td>\n",
       "      <td>0.5250</td>\n",
       "      <td>0.1750</td>\n",
       "      <td>3.160969</td>\n",
       "      <td>1.360776</td>\n",
       "      <td>0.581165</td>\n",
       "      <td>0.850485</td>\n",
       "    </tr>\n",
       "    <tr>\n",
       "      <th>...</th>\n",
       "      <td>...</td>\n",
       "      <td>...</td>\n",
       "      <td>...</td>\n",
       "      <td>...</td>\n",
       "      <td>...</td>\n",
       "      <td>...</td>\n",
       "      <td>...</td>\n",
       "      <td>...</td>\n",
       "      <td>...</td>\n",
       "    </tr>\n",
       "    <tr>\n",
       "      <th>3498</th>\n",
       "      <td>835</td>\n",
       "      <td>2</td>\n",
       "      <td>1.2625</td>\n",
       "      <td>0.9500</td>\n",
       "      <td>0.3250</td>\n",
       "      <td>19.646203</td>\n",
       "      <td>11.084654</td>\n",
       "      <td>3.387765</td>\n",
       "      <td>4.294949</td>\n",
       "    </tr>\n",
       "    <tr>\n",
       "      <th>3499</th>\n",
       "      <td>3264</td>\n",
       "      <td>2</td>\n",
       "      <td>1.4875</td>\n",
       "      <td>1.1250</td>\n",
       "      <td>0.4125</td>\n",
       "      <td>30.645809</td>\n",
       "      <td>13.891255</td>\n",
       "      <td>7.158249</td>\n",
       "      <td>7.909510</td>\n",
       "    </tr>\n",
       "    <tr>\n",
       "      <th>3500</th>\n",
       "      <td>1653</td>\n",
       "      <td>0</td>\n",
       "      <td>0.6750</td>\n",
       "      <td>0.4750</td>\n",
       "      <td>0.1500</td>\n",
       "      <td>2.806601</td>\n",
       "      <td>1.261553</td>\n",
       "      <td>0.481942</td>\n",
       "      <td>0.850485</td>\n",
       "    </tr>\n",
       "    <tr>\n",
       "      <th>3501</th>\n",
       "      <td>2607</td>\n",
       "      <td>1</td>\n",
       "      <td>1.5250</td>\n",
       "      <td>1.1875</td>\n",
       "      <td>0.4250</td>\n",
       "      <td>29.100762</td>\n",
       "      <td>12.332033</td>\n",
       "      <td>6.619608</td>\n",
       "      <td>8.604073</td>\n",
       "    </tr>\n",
       "    <tr>\n",
       "      <th>3502</th>\n",
       "      <td>2732</td>\n",
       "      <td>0</td>\n",
       "      <td>1.3875</td>\n",
       "      <td>1.0625</td>\n",
       "      <td>0.4500</td>\n",
       "      <td>24.805812</td>\n",
       "      <td>10.475140</td>\n",
       "      <td>5.684075</td>\n",
       "      <td>7.229122</td>\n",
       "    </tr>\n",
       "  </tbody>\n",
       "</table>\n",
       "<p>3503 rows × 9 columns</p>\n",
       "</div>"
      ],
      "text/plain": [
       "      Unnamed: 0  Sex  Length  Diameter  Height     Weight  Shucked Weight  \\\n",
       "0           3814    1  1.4375    1.1875  0.4000  31.581343       14.047177   \n",
       "1            457    1  1.0625    0.7625  0.2750  10.177471        4.904464   \n",
       "2           2404    0  1.5500    1.2000  0.4500  32.049110       14.982711   \n",
       "3           3828    0  1.2375    0.9500  0.3375  14.444070        5.854172   \n",
       "4           3029    0  0.7250    0.5250  0.1750   3.160969        1.360776   \n",
       "...          ...  ...     ...       ...     ...        ...             ...   \n",
       "3498         835    2  1.2625    0.9500  0.3250  19.646203       11.084654   \n",
       "3499        3264    2  1.4875    1.1250  0.4125  30.645809       13.891255   \n",
       "3500        1653    0  0.6750    0.4750  0.1500   2.806601        1.261553   \n",
       "3501        2607    1  1.5250    1.1875  0.4250  29.100762       12.332033   \n",
       "3502        2732    0  1.3875    1.0625  0.4500  24.805812       10.475140   \n",
       "\n",
       "      Viscera Weight  Shell Weight  \n",
       "0           7.781938      8.221355  \n",
       "1           2.480581      2.764076  \n",
       "2           7.526792      8.674947  \n",
       "3           3.302717      4.677668  \n",
       "4           0.581165      0.850485  \n",
       "...              ...           ...  \n",
       "3498        3.387765      4.294949  \n",
       "3499        7.158249      7.909510  \n",
       "3500        0.481942      0.850485  \n",
       "3501        6.619608      8.604073  \n",
       "3502        5.684075      7.229122  \n",
       "\n",
       "[3503 rows x 9 columns]"
      ]
     },
     "execution_count": 8,
     "metadata": {},
     "output_type": "execute_result"
    }
   ],
   "source": [
    "X_train"
   ]
  },
  {
   "cell_type": "code",
   "execution_count": 9,
   "metadata": {},
   "outputs": [
    {
     "data": {
      "text/plain": [
       "0        9\n",
       "1        9\n",
       "2       12\n",
       "3        8\n",
       "4        5\n",
       "        ..\n",
       "3498     8\n",
       "3499    12\n",
       "3500     5\n",
       "3501    10\n",
       "3502    11\n",
       "Name: Age, Length: 3503, dtype: int64"
      ]
     },
     "execution_count": 9,
     "metadata": {},
     "output_type": "execute_result"
    }
   ],
   "source": [
    "Y_train"
   ]
  },
  {
   "cell_type": "markdown",
   "metadata": {},
   "source": [
    "# Reading the Train Dataset"
   ]
  },
  {
   "cell_type": "code",
   "execution_count": 10,
   "metadata": {},
   "outputs": [],
   "source": [
    "test = pd.read_csv(r\"C:\\Users\\mitug\\ML-Project-Regression\\data\\test.csv\")"
   ]
  },
  {
   "cell_type": "code",
   "execution_count": 11,
   "metadata": {},
   "outputs": [],
   "source": [
    "Y_test = test['Age']\n",
    "X_test = test[train.columns.delete(-1)]"
   ]
  },
  {
   "cell_type": "code",
   "execution_count": 12,
   "metadata": {},
   "outputs": [
    {
     "data": {
      "text/plain": [
       "Index(['Unnamed: 0', 'Sex', 'Length', 'Diameter', 'Height', 'Weight',\n",
       "       'Shucked Weight', 'Viscera Weight', 'Shell Weight'],\n",
       "      dtype='object')"
      ]
     },
     "execution_count": 12,
     "metadata": {},
     "output_type": "execute_result"
    }
   ],
   "source": [
    "X_train.columns\n"
   ]
  },
  {
   "cell_type": "markdown",
   "metadata": {},
   "source": [
    "# Trying Simple Linear Regression"
   ]
  },
  {
   "cell_type": "code",
   "execution_count": 13,
   "metadata": {},
   "outputs": [
    {
     "data": {
      "image/png": "[encoded data removed]",
      "text/plain": [
       "<Figure size 432x288 with 1 Axes>"
      ]
     },
     "metadata": {
      "needs_background": "light"
     },
     "output_type": "display_data"
    },
    {
     "data": {
      "image/png": "[encoded data removed]",
      "text/plain": [
       "<Figure size 432x288 with 1 Axes>"
      ]
     },
     "metadata": {
      "needs_background": "light"
     },
     "output_type": "display_data"
    },
    {
     "data": {
      "image/png": "[encoded data removed]",
      "text/plain": [
       "<Figure size 432x288 with 1 Axes>"
      ]
     },
     "metadata": {
      "needs_background": "light"
     },
     "output_type": "display_data"
    },
    {
     "data": {
      "image/png": "[encoded data removed]",
      "text/plain": [
       "<Figure size 432x288 with 1 Axes>"
      ]
     },
     "metadata": {
      "needs_background": "light"
     },
     "output_type": "display_data"
    },
    {
     "data": {
      "image/png": "[encoded data removed]",
      "text/plain": [
       "<Figure size 432x288 with 1 Axes>"
      ]
     },
     "metadata": {
      "needs_background": "light"
     },
     "output_type": "display_data"
    },
    {
     "data": {
      "image/png": "[encoded data removed]",
      "text/plain": [
       "<Figure size 432x288 with 1 Axes>"
      ]
     },
     "metadata": {
      "needs_background": "light"
     },
     "output_type": "display_data"
    },
    {
     "data": {
      "image/png": "[encoded data removed]",
      "text/plain": [
       "<Figure size 432x288 with 1 Axes>"
      ]
     },
     "metadata": {
      "needs_background": "light"
     },
     "output_type": "display_data"
    }
   ],
   "source": [
    "for i in X_train.columns[2:]:\n",
    " sns.regplot(x=X_train[i],y=Y_train,line_kws={'color':'black'})\n",
    " plt.show()"
   ]
  },
  {
   "cell_type": "code",
   "execution_count": 14,
   "metadata": {},
   "outputs": [],
   "source": [
    "X_train_lm = [sm.add_constant(X_train[i]) for i in X_train.columns[1:]]\n",
    "lr_1 = []\n",
    "for i in X_train_lm:\n",
    " lr_1.append(sm.OLS(Y_train, i).fit())"
   ]
  },
  {
   "cell_type": "code",
   "execution_count": 15,
   "metadata": {},
   "outputs": [
    {
     "data": {
      "text/html": [
       "<table class=\"simpletable\">\n",
       "<caption>OLS Regression Results</caption>\n",
       "<tr>\n",
       "  <th>Dep. Variable:</th>           <td>Age</td>       <th>  R-squared:         </th> <td>   0.167</td> \n",
       "</tr>\n",
       "<tr>\n",
       "  <th>Model:</th>                   <td>OLS</td>       <th>  Adj. R-squared:    </th> <td>   0.167</td> \n",
       "</tr>\n",
       "<tr>\n",
       "  <th>Method:</th>             <td>Least Squares</td>  <th>  F-statistic:       </th> <td>   703.3</td> \n",
       "</tr>\n",
       "<tr>\n",
       "  <th>Date:</th>             <td>Wed, 19 Jan 2022</td> <th>  Prob (F-statistic):</th> <td>2.22e-141</td>\n",
       "</tr>\n",
       "<tr>\n",
       "  <th>Time:</th>                 <td>19:28:02</td>     <th>  Log-Likelihood:    </th> <td> -8736.0</td> \n",
       "</tr>\n",
       "<tr>\n",
       "  <th>No. Observations:</th>      <td>  3503</td>      <th>  AIC:               </th> <td>1.748e+04</td>\n",
       "</tr>\n",
       "<tr>\n",
       "  <th>Df Residuals:</th>          <td>  3501</td>      <th>  BIC:               </th> <td>1.749e+04</td>\n",
       "</tr>\n",
       "<tr>\n",
       "  <th>Df Model:</th>              <td>     1</td>      <th>                     </th>     <td> </td>    \n",
       "</tr>\n",
       "<tr>\n",
       "  <th>Covariance Type:</th>      <td>nonrobust</td>    <th>                     </th>     <td> </td>    \n",
       "</tr>\n",
       "</table>\n",
       "<table class=\"simpletable\">\n",
       "<tr>\n",
       "    <td></td>       <th>coef</th>     <th>std err</th>      <th>t</th>      <th>P>|t|</th>  <th>[0.025</th>    <th>0.975]</th>  \n",
       "</tr>\n",
       "<tr>\n",
       "  <th>const</th> <td>    8.3053</td> <td>    0.079</td> <td>  104.697</td> <td> 0.000</td> <td>    8.150</td> <td>    8.461</td>\n",
       "</tr>\n",
       "<tr>\n",
       "  <th>Sex</th>   <td>    1.6469</td> <td>    0.062</td> <td>   26.520</td> <td> 0.000</td> <td>    1.525</td> <td>    1.769</td>\n",
       "</tr>\n",
       "</table>\n",
       "<table class=\"simpletable\">\n",
       "<tr>\n",
       "  <th>Omnibus:</th>       <td>898.593</td> <th>  Durbin-Watson:     </th> <td>   2.030</td>\n",
       "</tr>\n",
       "<tr>\n",
       "  <th>Prob(Omnibus):</th> <td> 0.000</td>  <th>  Jarque-Bera (JB):  </th> <td>2463.611</td>\n",
       "</tr>\n",
       "<tr>\n",
       "  <th>Skew:</th>          <td> 1.351</td>  <th>  Prob(JB):          </th> <td>    0.00</td>\n",
       "</tr>\n",
       "<tr>\n",
       "  <th>Kurtosis:</th>      <td> 6.095</td>  <th>  Cond. No.          </th> <td>    2.96</td>\n",
       "</tr>\n",
       "</table><br/><br/>Notes:<br/>[1] Standard Errors assume that the covariance matrix of the errors is correctly specified."
      ],
      "text/plain": [
       "<class 'statsmodels.iolib.summary.Summary'>\n",
       "\"\"\"\n",
       "                            OLS Regression Results                            \n",
       "==============================================================================\n",
       "Dep. Variable:                    Age   R-squared:                       0.167\n",
       "Model:                            OLS   Adj. R-squared:                  0.167\n",
       "Method:                 Least Squares   F-statistic:                     703.3\n",
       "Date:                Wed, 19 Jan 2022   Prob (F-statistic):          2.22e-141\n",
       "Time:                        19:28:02   Log-Likelihood:                -8736.0\n",
       "No. Observations:                3503   AIC:                         1.748e+04\n",
       "Df Residuals:                    3501   BIC:                         1.749e+04\n",
       "Df Model:                           1                                         \n",
       "Covariance Type:            nonrobust                                         \n",
       "==============================================================================\n",
       "                 coef    std err          t      P>|t|      [0.025      0.975]\n",
       "------------------------------------------------------------------------------\n",
       "const          8.3053      0.079    104.697      0.000       8.150       8.461\n",
       "Sex            1.6469      0.062     26.520      0.000       1.525       1.769\n",
       "==============================================================================\n",
       "Omnibus:                      898.593   Durbin-Watson:                   2.030\n",
       "Prob(Omnibus):                  0.000   Jarque-Bera (JB):             2463.611\n",
       "Skew:                           1.351   Prob(JB):                         0.00\n",
       "Kurtosis:                       6.095   Cond. No.                         2.96\n",
       "==============================================================================\n",
       "\n",
       "Notes:\n",
       "[1] Standard Errors assume that the covariance matrix of the errors is correctly specified.\n",
       "\"\"\""
      ]
     },
     "execution_count": 15,
     "metadata": {},
     "output_type": "execute_result"
    }
   ],
   "source": [
    "lr_1[0].summary()"
   ]
  },
  {
   "cell_type": "code",
   "execution_count": 16,
   "metadata": {},
   "outputs": [
    {
     "data": {
      "text/html": [
       "<table class=\"simpletable\">\n",
       "<caption>OLS Regression Results</caption>\n",
       "<tr>\n",
       "  <th>Dep. Variable:</th>           <td>Age</td>       <th>  R-squared:         </th> <td>   0.311</td> \n",
       "</tr>\n",
       "<tr>\n",
       "  <th>Model:</th>                   <td>OLS</td>       <th>  Adj. R-squared:    </th> <td>   0.311</td> \n",
       "</tr>\n",
       "<tr>\n",
       "  <th>Method:</th>             <td>Least Squares</td>  <th>  F-statistic:       </th> <td>   1578.</td> \n",
       "</tr>\n",
       "<tr>\n",
       "  <th>Date:</th>             <td>Wed, 19 Jan 2022</td> <th>  Prob (F-statistic):</th> <td>2.92e-285</td>\n",
       "</tr>\n",
       "<tr>\n",
       "  <th>Time:</th>                 <td>19:28:02</td>     <th>  Log-Likelihood:    </th> <td> -8404.8</td> \n",
       "</tr>\n",
       "<tr>\n",
       "  <th>No. Observations:</th>      <td>  3503</td>      <th>  AIC:               </th> <td>1.681e+04</td>\n",
       "</tr>\n",
       "<tr>\n",
       "  <th>Df Residuals:</th>          <td>  3501</td>      <th>  BIC:               </th> <td>1.683e+04</td>\n",
       "</tr>\n",
       "<tr>\n",
       "  <th>Df Model:</th>              <td>     1</td>      <th>                     </th>     <td> </td>    \n",
       "</tr>\n",
       "<tr>\n",
       "  <th>Covariance Type:</th>      <td>nonrobust</td>    <th>                     </th>     <td> </td>    \n",
       "</tr>\n",
       "</table>\n",
       "<table class=\"simpletable\">\n",
       "<tr>\n",
       "     <td></td>       <th>coef</th>     <th>std err</th>      <th>t</th>      <th>P>|t|</th>  <th>[0.025</th>    <th>0.975]</th>  \n",
       "</tr>\n",
       "<tr>\n",
       "  <th>const</th>  <td>    2.1153</td> <td>    0.202</td> <td>   10.459</td> <td> 0.000</td> <td>    1.719</td> <td>    2.512</td>\n",
       "</tr>\n",
       "<tr>\n",
       "  <th>Length</th> <td>    5.9730</td> <td>    0.150</td> <td>   39.729</td> <td> 0.000</td> <td>    5.678</td> <td>    6.268</td>\n",
       "</tr>\n",
       "</table>\n",
       "<table class=\"simpletable\">\n",
       "<tr>\n",
       "  <th>Omnibus:</th>       <td>1203.330</td> <th>  Durbin-Watson:     </th> <td>   1.997</td>\n",
       "</tr>\n",
       "<tr>\n",
       "  <th>Prob(Omnibus):</th>  <td> 0.000</td>  <th>  Jarque-Bera (JB):  </th> <td>4152.699</td>\n",
       "</tr>\n",
       "<tr>\n",
       "  <th>Skew:</th>           <td> 1.722</td>  <th>  Prob(JB):          </th> <td>    0.00</td>\n",
       "</tr>\n",
       "<tr>\n",
       "  <th>Kurtosis:</th>       <td> 7.072</td>  <th>  Cond. No.          </th> <td>    9.27</td>\n",
       "</tr>\n",
       "</table><br/><br/>Notes:<br/>[1] Standard Errors assume that the covariance matrix of the errors is correctly specified."
      ],
      "text/plain": [
       "<class 'statsmodels.iolib.summary.Summary'>\n",
       "\"\"\"\n",
       "                            OLS Regression Results                            \n",
       "==============================================================================\n",
       "Dep. Variable:                    Age   R-squared:                       0.311\n",
       "Model:                            OLS   Adj. R-squared:                  0.311\n",
       "Method:                 Least Squares   F-statistic:                     1578.\n",
       "Date:                Wed, 19 Jan 2022   Prob (F-statistic):          2.92e-285\n",
       "Time:                        19:28:02   Log-Likelihood:                -8404.8\n",
       "No. Observations:                3503   AIC:                         1.681e+04\n",
       "Df Residuals:                    3501   BIC:                         1.683e+04\n",
       "Df Model:                           1                                         \n",
       "Covariance Type:            nonrobust                                         \n",
       "==============================================================================\n",
       "                 coef    std err          t      P>|t|      [0.025      0.975]\n",
       "------------------------------------------------------------------------------\n",
       "const          2.1153      0.202     10.459      0.000       1.719       2.512\n",
       "Length         5.9730      0.150     39.729      0.000       5.678       6.268\n",
       "==============================================================================\n",
       "Omnibus:                     1203.330   Durbin-Watson:                   1.997\n",
       "Prob(Omnibus):                  0.000   Jarque-Bera (JB):             4152.699\n",
       "Skew:                           1.722   Prob(JB):                         0.00\n",
       "Kurtosis:                       7.072   Cond. No.                         9.27\n",
       "==============================================================================\n",
       "\n",
       "Notes:\n",
       "[1] Standard Errors assume that the covariance matrix of the errors is correctly specified.\n",
       "\"\"\""
      ]
     },
     "execution_count": 16,
     "metadata": {},
     "output_type": "execute_result"
    }
   ],
   "source": [
    "lr_1[1].summary()"
   ]
  },
  {
   "cell_type": "code",
   "execution_count": 17,
   "metadata": {},
   "outputs": [
    {
     "data": {
      "text/html": [
       "<table class=\"simpletable\">\n",
       "<caption>OLS Regression Results</caption>\n",
       "<tr>\n",
       "  <th>Dep. Variable:</th>           <td>Age</td>       <th>  R-squared:         </th> <td>   0.332</td> \n",
       "</tr>\n",
       "<tr>\n",
       "  <th>Model:</th>                   <td>OLS</td>       <th>  Adj. R-squared:    </th> <td>   0.332</td> \n",
       "</tr>\n",
       "<tr>\n",
       "  <th>Method:</th>             <td>Least Squares</td>  <th>  F-statistic:       </th> <td>   1742.</td> \n",
       "</tr>\n",
       "<tr>\n",
       "  <th>Date:</th>             <td>Wed, 19 Jan 2022</td> <th>  Prob (F-statistic):</th> <td>2.61e-309</td>\n",
       "</tr>\n",
       "<tr>\n",
       "  <th>Time:</th>                 <td>19:28:02</td>     <th>  Log-Likelihood:    </th> <td> -8349.4</td> \n",
       "</tr>\n",
       "<tr>\n",
       "  <th>No. Observations:</th>      <td>  3503</td>      <th>  AIC:               </th> <td>1.670e+04</td>\n",
       "</tr>\n",
       "<tr>\n",
       "  <th>Df Residuals:</th>          <td>  3501</td>      <th>  BIC:               </th> <td>1.672e+04</td>\n",
       "</tr>\n",
       "<tr>\n",
       "  <th>Df Model:</th>              <td>     1</td>      <th>                     </th>     <td> </td>    \n",
       "</tr>\n",
       "<tr>\n",
       "  <th>Covariance Type:</th>      <td>nonrobust</td>    <th>                     </th>     <td> </td>    \n",
       "</tr>\n",
       "</table>\n",
       "<table class=\"simpletable\">\n",
       "<tr>\n",
       "      <td></td>        <th>coef</th>     <th>std err</th>      <th>t</th>      <th>P>|t|</th>  <th>[0.025</th>    <th>0.975]</th>  \n",
       "</tr>\n",
       "<tr>\n",
       "  <th>const</th>    <td>    2.3219</td> <td>    0.188</td> <td>   12.346</td> <td> 0.000</td> <td>    1.953</td> <td>    2.691</td>\n",
       "</tr>\n",
       "<tr>\n",
       "  <th>Diameter</th> <td>    7.4690</td> <td>    0.179</td> <td>   41.732</td> <td> 0.000</td> <td>    7.118</td> <td>    7.820</td>\n",
       "</tr>\n",
       "</table>\n",
       "<table class=\"simpletable\">\n",
       "<tr>\n",
       "  <th>Omnibus:</th>       <td>1207.811</td> <th>  Durbin-Watson:     </th> <td>   2.007</td>\n",
       "</tr>\n",
       "<tr>\n",
       "  <th>Prob(Omnibus):</th>  <td> 0.000</td>  <th>  Jarque-Bera (JB):  </th> <td>4202.772</td>\n",
       "</tr>\n",
       "<tr>\n",
       "  <th>Skew:</th>           <td> 1.726</td>  <th>  Prob(JB):          </th> <td>    0.00</td>\n",
       "</tr>\n",
       "<tr>\n",
       "  <th>Kurtosis:</th>       <td> 7.109</td>  <th>  Cond. No.          </th> <td>    8.37</td>\n",
       "</tr>\n",
       "</table><br/><br/>Notes:<br/>[1] Standard Errors assume that the covariance matrix of the errors is correctly specified."
      ],
      "text/plain": [
       "<class 'statsmodels.iolib.summary.Summary'>\n",
       "\"\"\"\n",
       "                            OLS Regression Results                            \n",
       "==============================================================================\n",
       "Dep. Variable:                    Age   R-squared:                       0.332\n",
       "Model:                            OLS   Adj. R-squared:                  0.332\n",
       "Method:                 Least Squares   F-statistic:                     1742.\n",
       "Date:                Wed, 19 Jan 2022   Prob (F-statistic):          2.61e-309\n",
       "Time:                        19:28:02   Log-Likelihood:                -8349.4\n",
       "No. Observations:                3503   AIC:                         1.670e+04\n",
       "Df Residuals:                    3501   BIC:                         1.672e+04\n",
       "Df Model:                           1                                         \n",
       "Covariance Type:            nonrobust                                         \n",
       "==============================================================================\n",
       "                 coef    std err          t      P>|t|      [0.025      0.975]\n",
       "------------------------------------------------------------------------------\n",
       "const          2.3219      0.188     12.346      0.000       1.953       2.691\n",
       "Diameter       7.4690      0.179     41.732      0.000       7.118       7.820\n",
       "==============================================================================\n",
       "Omnibus:                     1207.811   Durbin-Watson:                   2.007\n",
       "Prob(Omnibus):                  0.000   Jarque-Bera (JB):             4202.772\n",
       "Skew:                           1.726   Prob(JB):                         0.00\n",
       "Kurtosis:                       7.109   Cond. No.                         8.37\n",
       "==============================================================================\n",
       "\n",
       "Notes:\n",
       "[1] Standard Errors assume that the covariance matrix of the errors is correctly specified.\n",
       "\"\"\""
      ]
     },
     "execution_count": 17,
     "metadata": {},
     "output_type": "execute_result"
    }
   ],
   "source": [
    "lr_1[2].summary()"
   ]
  },
  {
   "cell_type": "code",
   "execution_count": 18,
   "metadata": {},
   "outputs": [
    {
     "data": {
      "text/html": [
       "<table class=\"simpletable\">\n",
       "<caption>OLS Regression Results</caption>\n",
       "<tr>\n",
       "  <th>Dep. Variable:</th>           <td>Age</td>       <th>  R-squared:         </th> <td>   0.308</td> \n",
       "</tr>\n",
       "<tr>\n",
       "  <th>Model:</th>                   <td>OLS</td>       <th>  Adj. R-squared:    </th> <td>   0.307</td> \n",
       "</tr>\n",
       "<tr>\n",
       "  <th>Method:</th>             <td>Least Squares</td>  <th>  F-statistic:       </th> <td>   1555.</td> \n",
       "</tr>\n",
       "<tr>\n",
       "  <th>Date:</th>             <td>Wed, 19 Jan 2022</td> <th>  Prob (F-statistic):</th> <td>8.26e-282</td>\n",
       "</tr>\n",
       "<tr>\n",
       "  <th>Time:</th>                 <td>19:28:02</td>     <th>  Log-Likelihood:    </th> <td> -8412.7</td> \n",
       "</tr>\n",
       "<tr>\n",
       "  <th>No. Observations:</th>      <td>  3503</td>      <th>  AIC:               </th> <td>1.683e+04</td>\n",
       "</tr>\n",
       "<tr>\n",
       "  <th>Df Residuals:</th>          <td>  3501</td>      <th>  BIC:               </th> <td>1.684e+04</td>\n",
       "</tr>\n",
       "<tr>\n",
       "  <th>Df Model:</th>              <td>     1</td>      <th>                     </th>     <td> </td>    \n",
       "</tr>\n",
       "<tr>\n",
       "  <th>Covariance Type:</th>      <td>nonrobust</td>    <th>                     </th>     <td> </td>    \n",
       "</tr>\n",
       "</table>\n",
       "<table class=\"simpletable\">\n",
       "<tr>\n",
       "     <td></td>       <th>coef</th>     <th>std err</th>      <th>t</th>      <th>P>|t|</th>  <th>[0.025</th>    <th>0.975]</th>  \n",
       "</tr>\n",
       "<tr>\n",
       "  <th>const</th>  <td>    4.0129</td> <td>    0.157</td> <td>   25.538</td> <td> 0.000</td> <td>    3.705</td> <td>    4.321</td>\n",
       "</tr>\n",
       "<tr>\n",
       "  <th>Height</th> <td>   16.9957</td> <td>    0.431</td> <td>   39.439</td> <td> 0.000</td> <td>   16.151</td> <td>   17.841</td>\n",
       "</tr>\n",
       "</table>\n",
       "<table class=\"simpletable\">\n",
       "<tr>\n",
       "  <th>Omnibus:</th>       <td>965.067</td> <th>  Durbin-Watson:     </th> <td>   1.995</td> \n",
       "</tr>\n",
       "<tr>\n",
       "  <th>Prob(Omnibus):</th> <td> 0.000</td>  <th>  Jarque-Bera (JB):  </th> <td>84568.097</td>\n",
       "</tr>\n",
       "<tr>\n",
       "  <th>Skew:</th>          <td> 0.234</td>  <th>  Prob(JB):          </th> <td>    0.00</td> \n",
       "</tr>\n",
       "<tr>\n",
       "  <th>Kurtosis:</th>      <td>27.066</td>  <th>  Cond. No.          </th> <td>    10.7</td> \n",
       "</tr>\n",
       "</table><br/><br/>Notes:<br/>[1] Standard Errors assume that the covariance matrix of the errors is correctly specified."
      ],
      "text/plain": [
       "<class 'statsmodels.iolib.summary.Summary'>\n",
       "\"\"\"\n",
       "                            OLS Regression Results                            \n",
       "==============================================================================\n",
       "Dep. Variable:                    Age   R-squared:                       0.308\n",
       "Model:                            OLS   Adj. R-squared:                  0.307\n",
       "Method:                 Least Squares   F-statistic:                     1555.\n",
       "Date:                Wed, 19 Jan 2022   Prob (F-statistic):          8.26e-282\n",
       "Time:                        19:28:02   Log-Likelihood:                -8412.7\n",
       "No. Observations:                3503   AIC:                         1.683e+04\n",
       "Df Residuals:                    3501   BIC:                         1.684e+04\n",
       "Df Model:                           1                                         \n",
       "Covariance Type:            nonrobust                                         \n",
       "==============================================================================\n",
       "                 coef    std err          t      P>|t|      [0.025      0.975]\n",
       "------------------------------------------------------------------------------\n",
       "const          4.0129      0.157     25.538      0.000       3.705       4.321\n",
       "Height        16.9957      0.431     39.439      0.000      16.151      17.841\n",
       "==============================================================================\n",
       "Omnibus:                      965.067   Durbin-Watson:                   1.995\n",
       "Prob(Omnibus):                  0.000   Jarque-Bera (JB):            84568.097\n",
       "Skew:                           0.234   Prob(JB):                         0.00\n",
       "Kurtosis:                      27.066   Cond. No.                         10.7\n",
       "==============================================================================\n",
       "\n",
       "Notes:\n",
       "[1] Standard Errors assume that the covariance matrix of the errors is correctly specified.\n",
       "\"\"\""
      ]
     },
     "execution_count": 18,
     "metadata": {},
     "output_type": "execute_result"
    }
   ],
   "source": [
    "lr_1[3].summary()"
   ]
  },
  {
   "cell_type": "code",
   "execution_count": 19,
   "metadata": {},
   "outputs": [
    {
     "data": {
      "text/html": [
       "<table class=\"simpletable\">\n",
       "<caption>OLS Regression Results</caption>\n",
       "<tr>\n",
       "  <th>Dep. Variable:</th>           <td>Age</td>       <th>  R-squared:         </th> <td>   0.295</td> \n",
       "</tr>\n",
       "<tr>\n",
       "  <th>Model:</th>                   <td>OLS</td>       <th>  Adj. R-squared:    </th> <td>   0.295</td> \n",
       "</tr>\n",
       "<tr>\n",
       "  <th>Method:</th>             <td>Least Squares</td>  <th>  F-statistic:       </th> <td>   1463.</td> \n",
       "</tr>\n",
       "<tr>\n",
       "  <th>Date:</th>             <td>Wed, 19 Jan 2022</td> <th>  Prob (F-statistic):</th> <td>9.03e-268</td>\n",
       "</tr>\n",
       "<tr>\n",
       "  <th>Time:</th>                 <td>19:28:02</td>     <th>  Log-Likelihood:    </th> <td> -8445.1</td> \n",
       "</tr>\n",
       "<tr>\n",
       "  <th>No. Observations:</th>      <td>  3503</td>      <th>  AIC:               </th> <td>1.689e+04</td>\n",
       "</tr>\n",
       "<tr>\n",
       "  <th>Df Residuals:</th>          <td>  3501</td>      <th>  BIC:               </th> <td>1.691e+04</td>\n",
       "</tr>\n",
       "<tr>\n",
       "  <th>Df Model:</th>              <td>     1</td>      <th>                     </th>     <td> </td>    \n",
       "</tr>\n",
       "<tr>\n",
       "  <th>Covariance Type:</th>      <td>nonrobust</td>    <th>                     </th>     <td> </td>    \n",
       "</tr>\n",
       "</table>\n",
       "<table class=\"simpletable\">\n",
       "<tr>\n",
       "     <td></td>       <th>coef</th>     <th>std err</th>      <th>t</th>      <th>P>|t|</th>  <th>[0.025</th>    <th>0.975]</th>  \n",
       "</tr>\n",
       "<tr>\n",
       "  <th>const</th>  <td>    6.9837</td> <td>    0.090</td> <td>   77.660</td> <td> 0.000</td> <td>    6.807</td> <td>    7.160</td>\n",
       "</tr>\n",
       "<tr>\n",
       "  <th>Weight</th> <td>    0.1260</td> <td>    0.003</td> <td>   38.249</td> <td> 0.000</td> <td>    0.120</td> <td>    0.132</td>\n",
       "</tr>\n",
       "</table>\n",
       "<table class=\"simpletable\">\n",
       "<tr>\n",
       "  <th>Omnibus:</th>       <td>1048.865</td> <th>  Durbin-Watson:     </th> <td>   1.998</td>\n",
       "</tr>\n",
       "<tr>\n",
       "  <th>Prob(Omnibus):</th>  <td> 0.000</td>  <th>  Jarque-Bera (JB):  </th> <td>3104.246</td>\n",
       "</tr>\n",
       "<tr>\n",
       "  <th>Skew:</th>           <td> 1.550</td>  <th>  Prob(JB):          </th> <td>    0.00</td>\n",
       "</tr>\n",
       "<tr>\n",
       "  <th>Kurtosis:</th>       <td> 6.415</td>  <th>  Cond. No.          </th> <td>    53.9</td>\n",
       "</tr>\n",
       "</table><br/><br/>Notes:<br/>[1] Standard Errors assume that the covariance matrix of the errors is correctly specified."
      ],
      "text/plain": [
       "<class 'statsmodels.iolib.summary.Summary'>\n",
       "\"\"\"\n",
       "                            OLS Regression Results                            \n",
       "==============================================================================\n",
       "Dep. Variable:                    Age   R-squared:                       0.295\n",
       "Model:                            OLS   Adj. R-squared:                  0.295\n",
       "Method:                 Least Squares   F-statistic:                     1463.\n",
       "Date:                Wed, 19 Jan 2022   Prob (F-statistic):          9.03e-268\n",
       "Time:                        19:28:02   Log-Likelihood:                -8445.1\n",
       "No. Observations:                3503   AIC:                         1.689e+04\n",
       "Df Residuals:                    3501   BIC:                         1.691e+04\n",
       "Df Model:                           1                                         \n",
       "Covariance Type:            nonrobust                                         \n",
       "==============================================================================\n",
       "                 coef    std err          t      P>|t|      [0.025      0.975]\n",
       "------------------------------------------------------------------------------\n",
       "const          6.9837      0.090     77.660      0.000       6.807       7.160\n",
       "Weight         0.1260      0.003     38.249      0.000       0.120       0.132\n",
       "==============================================================================\n",
       "Omnibus:                     1048.865   Durbin-Watson:                   1.998\n",
       "Prob(Omnibus):                  0.000   Jarque-Bera (JB):             3104.246\n",
       "Skew:                           1.550   Prob(JB):                         0.00\n",
       "Kurtosis:                       6.415   Cond. No.                         53.9\n",
       "==============================================================================\n",
       "\n",
       "Notes:\n",
       "[1] Standard Errors assume that the covariance matrix of the errors is correctly specified.\n",
       "\"\"\""
      ]
     },
     "execution_count": 19,
     "metadata": {},
     "output_type": "execute_result"
    }
   ],
   "source": [
    "lr_1[4].summary()"
   ]
  },
  {
   "cell_type": "code",
   "execution_count": 20,
   "metadata": {},
   "outputs": [
    {
     "data": {
      "text/html": [
       "<table class=\"simpletable\">\n",
       "<caption>OLS Regression Results</caption>\n",
       "<tr>\n",
       "  <th>Dep. Variable:</th>           <td>Age</td>       <th>  R-squared:         </th> <td>   0.179</td> \n",
       "</tr>\n",
       "<tr>\n",
       "  <th>Model:</th>                   <td>OLS</td>       <th>  Adj. R-squared:    </th> <td>   0.179</td> \n",
       "</tr>\n",
       "<tr>\n",
       "  <th>Method:</th>             <td>Least Squares</td>  <th>  F-statistic:       </th> <td>   764.0</td> \n",
       "</tr>\n",
       "<tr>\n",
       "  <th>Date:</th>             <td>Wed, 19 Jan 2022</td> <th>  Prob (F-statistic):</th> <td>2.76e-152</td>\n",
       "</tr>\n",
       "<tr>\n",
       "  <th>Time:</th>                 <td>19:28:02</td>     <th>  Log-Likelihood:    </th> <td> -8710.9</td> \n",
       "</tr>\n",
       "<tr>\n",
       "  <th>No. Observations:</th>      <td>  3503</td>      <th>  AIC:               </th> <td>1.743e+04</td>\n",
       "</tr>\n",
       "<tr>\n",
       "  <th>Df Residuals:</th>          <td>  3501</td>      <th>  BIC:               </th> <td>1.744e+04</td>\n",
       "</tr>\n",
       "<tr>\n",
       "  <th>Df Model:</th>              <td>     1</td>      <th>                     </th>     <td> </td>    \n",
       "</tr>\n",
       "<tr>\n",
       "  <th>Covariance Type:</th>      <td>nonrobust</td>    <th>                     </th>     <td> </td>    \n",
       "</tr>\n",
       "</table>\n",
       "<table class=\"simpletable\">\n",
       "<tr>\n",
       "         <td></td>           <th>coef</th>     <th>std err</th>      <th>t</th>      <th>P>|t|</th>  <th>[0.025</th>    <th>0.975]</th>  \n",
       "</tr>\n",
       "<tr>\n",
       "  <th>const</th>          <td>    7.7309</td> <td>    0.094</td> <td>   82.151</td> <td> 0.000</td> <td>    7.546</td> <td>    7.915</td>\n",
       "</tr>\n",
       "<tr>\n",
       "  <th>Shucked Weight</th> <td>    0.2176</td> <td>    0.008</td> <td>   27.640</td> <td> 0.000</td> <td>    0.202</td> <td>    0.233</td>\n",
       "</tr>\n",
       "</table>\n",
       "<table class=\"simpletable\">\n",
       "<tr>\n",
       "  <th>Omnibus:</th>       <td>1065.983</td> <th>  Durbin-Watson:     </th> <td>   1.994</td>\n",
       "</tr>\n",
       "<tr>\n",
       "  <th>Prob(Omnibus):</th>  <td> 0.000</td>  <th>  Jarque-Bera (JB):  </th> <td>3151.678</td>\n",
       "</tr>\n",
       "<tr>\n",
       "  <th>Skew:</th>           <td> 1.578</td>  <th>  Prob(JB):          </th> <td>    0.00</td>\n",
       "</tr>\n",
       "<tr>\n",
       "  <th>Kurtosis:</th>       <td> 6.411</td>  <th>  Cond. No.          </th> <td>    23.0</td>\n",
       "</tr>\n",
       "</table><br/><br/>Notes:<br/>[1] Standard Errors assume that the covariance matrix of the errors is correctly specified."
      ],
      "text/plain": [
       "<class 'statsmodels.iolib.summary.Summary'>\n",
       "\"\"\"\n",
       "                            OLS Regression Results                            \n",
       "==============================================================================\n",
       "Dep. Variable:                    Age   R-squared:                       0.179\n",
       "Model:                            OLS   Adj. R-squared:                  0.179\n",
       "Method:                 Least Squares   F-statistic:                     764.0\n",
       "Date:                Wed, 19 Jan 2022   Prob (F-statistic):          2.76e-152\n",
       "Time:                        19:28:02   Log-Likelihood:                -8710.9\n",
       "No. Observations:                3503   AIC:                         1.743e+04\n",
       "Df Residuals:                    3501   BIC:                         1.744e+04\n",
       "Df Model:                           1                                         \n",
       "Covariance Type:            nonrobust                                         \n",
       "==================================================================================\n",
       "                     coef    std err          t      P>|t|      [0.025      0.975]\n",
       "----------------------------------------------------------------------------------\n",
       "const              7.7309      0.094     82.151      0.000       7.546       7.915\n",
       "Shucked Weight     0.2176      0.008     27.640      0.000       0.202       0.233\n",
       "==============================================================================\n",
       "Omnibus:                     1065.983   Durbin-Watson:                   1.994\n",
       "Prob(Omnibus):                  0.000   Jarque-Bera (JB):             3151.678\n",
       "Skew:                           1.578   Prob(JB):                         0.00\n",
       "Kurtosis:                       6.411   Cond. No.                         23.0\n",
       "==============================================================================\n",
       "\n",
       "Notes:\n",
       "[1] Standard Errors assume that the covariance matrix of the errors is correctly specified.\n",
       "\"\"\""
      ]
     },
     "execution_count": 20,
     "metadata": {},
     "output_type": "execute_result"
    }
   ],
   "source": [
    "lr_1[5].summary()"
   ]
  },
  {
   "cell_type": "code",
   "execution_count": 21,
   "metadata": {},
   "outputs": [
    {
     "data": {
      "text/html": [
       "<table class=\"simpletable\">\n",
       "<caption>OLS Regression Results</caption>\n",
       "<tr>\n",
       "  <th>Dep. Variable:</th>           <td>Age</td>       <th>  R-squared:         </th> <td>   0.256</td> \n",
       "</tr>\n",
       "<tr>\n",
       "  <th>Model:</th>                   <td>OLS</td>       <th>  Adj. R-squared:    </th> <td>   0.256</td> \n",
       "</tr>\n",
       "<tr>\n",
       "  <th>Method:</th>             <td>Least Squares</td>  <th>  F-statistic:       </th> <td>   1203.</td> \n",
       "</tr>\n",
       "<tr>\n",
       "  <th>Date:</th>             <td>Wed, 19 Jan 2022</td> <th>  Prob (F-statistic):</th> <td>7.28e-227</td>\n",
       "</tr>\n",
       "<tr>\n",
       "  <th>Time:</th>                 <td>19:28:02</td>     <th>  Log-Likelihood:    </th> <td> -8539.2</td> \n",
       "</tr>\n",
       "<tr>\n",
       "  <th>No. Observations:</th>      <td>  3503</td>      <th>  AIC:               </th> <td>1.708e+04</td>\n",
       "</tr>\n",
       "<tr>\n",
       "  <th>Df Residuals:</th>          <td>  3501</td>      <th>  BIC:               </th> <td>1.709e+04</td>\n",
       "</tr>\n",
       "<tr>\n",
       "  <th>Df Model:</th>              <td>     1</td>      <th>                     </th>     <td> </td>    \n",
       "</tr>\n",
       "<tr>\n",
       "  <th>Covariance Type:</th>      <td>nonrobust</td>    <th>                     </th>     <td> </td>    \n",
       "</tr>\n",
       "</table>\n",
       "<table class=\"simpletable\">\n",
       "<tr>\n",
       "         <td></td>           <th>coef</th>     <th>std err</th>      <th>t</th>      <th>P>|t|</th>  <th>[0.025</th>    <th>0.975]</th>  \n",
       "</tr>\n",
       "<tr>\n",
       "  <th>const</th>          <td>    7.2535</td> <td>    0.091</td> <td>   79.956</td> <td> 0.000</td> <td>    7.076</td> <td>    7.431</td>\n",
       "</tr>\n",
       "<tr>\n",
       "  <th>Viscera Weight</th> <td>    0.5259</td> <td>    0.015</td> <td>   34.686</td> <td> 0.000</td> <td>    0.496</td> <td>    0.556</td>\n",
       "</tr>\n",
       "</table>\n",
       "<table class=\"simpletable\">\n",
       "<tr>\n",
       "  <th>Omnibus:</th>       <td>1127.556</td> <th>  Durbin-Watson:     </th> <td>   1.998</td>\n",
       "</tr>\n",
       "<tr>\n",
       "  <th>Prob(Omnibus):</th>  <td> 0.000</td>  <th>  Jarque-Bera (JB):  </th> <td>3684.512</td>\n",
       "</tr>\n",
       "<tr>\n",
       "  <th>Skew:</th>           <td> 1.627</td>  <th>  Prob(JB):          </th> <td>    0.00</td>\n",
       "</tr>\n",
       "<tr>\n",
       "  <th>Kurtosis:</th>       <td> 6.827</td>  <th>  Cond. No.          </th> <td>    11.8</td>\n",
       "</tr>\n",
       "</table><br/><br/>Notes:<br/>[1] Standard Errors assume that the covariance matrix of the errors is correctly specified."
      ],
      "text/plain": [
       "<class 'statsmodels.iolib.summary.Summary'>\n",
       "\"\"\"\n",
       "                            OLS Regression Results                            \n",
       "==============================================================================\n",
       "Dep. Variable:                    Age   R-squared:                       0.256\n",
       "Model:                            OLS   Adj. R-squared:                  0.256\n",
       "Method:                 Least Squares   F-statistic:                     1203.\n",
       "Date:                Wed, 19 Jan 2022   Prob (F-statistic):          7.28e-227\n",
       "Time:                        19:28:02   Log-Likelihood:                -8539.2\n",
       "No. Observations:                3503   AIC:                         1.708e+04\n",
       "Df Residuals:                    3501   BIC:                         1.709e+04\n",
       "Df Model:                           1                                         \n",
       "Covariance Type:            nonrobust                                         \n",
       "==================================================================================\n",
       "                     coef    std err          t      P>|t|      [0.025      0.975]\n",
       "----------------------------------------------------------------------------------\n",
       "const              7.2535      0.091     79.956      0.000       7.076       7.431\n",
       "Viscera Weight     0.5259      0.015     34.686      0.000       0.496       0.556\n",
       "==============================================================================\n",
       "Omnibus:                     1127.556   Durbin-Watson:                   1.998\n",
       "Prob(Omnibus):                  0.000   Jarque-Bera (JB):             3684.512\n",
       "Skew:                           1.627   Prob(JB):                         0.00\n",
       "Kurtosis:                       6.827   Cond. No.                         11.8\n",
       "==============================================================================\n",
       "\n",
       "Notes:\n",
       "[1] Standard Errors assume that the covariance matrix of the errors is correctly specified.\n",
       "\"\"\""
      ]
     },
     "execution_count": 21,
     "metadata": {},
     "output_type": "execute_result"
    }
   ],
   "source": [
    "lr_1[6].summary()"
   ]
  },
  {
   "cell_type": "code",
   "execution_count": 22,
   "metadata": {},
   "outputs": [
    {
     "data": {
      "text/html": [
       "<table class=\"simpletable\">\n",
       "<caption>OLS Regression Results</caption>\n",
       "<tr>\n",
       "  <th>Dep. Variable:</th>           <td>Age</td>       <th>  R-squared:         </th> <td>   0.394</td> \n",
       "</tr>\n",
       "<tr>\n",
       "  <th>Model:</th>                   <td>OLS</td>       <th>  Adj. R-squared:    </th> <td>   0.393</td> \n",
       "</tr>\n",
       "<tr>\n",
       "  <th>Method:</th>             <td>Least Squares</td>  <th>  F-statistic:       </th> <td>   2273.</td> \n",
       "</tr>\n",
       "<tr>\n",
       "  <th>Date:</th>             <td>Wed, 19 Jan 2022</td> <th>  Prob (F-statistic):</th>  <td>  0.00</td>  \n",
       "</tr>\n",
       "<tr>\n",
       "  <th>Time:</th>                 <td>19:28:02</td>     <th>  Log-Likelihood:    </th> <td> -8180.4</td> \n",
       "</tr>\n",
       "<tr>\n",
       "  <th>No. Observations:</th>      <td>  3503</td>      <th>  AIC:               </th> <td>1.636e+04</td>\n",
       "</tr>\n",
       "<tr>\n",
       "  <th>Df Residuals:</th>          <td>  3501</td>      <th>  BIC:               </th> <td>1.638e+04</td>\n",
       "</tr>\n",
       "<tr>\n",
       "  <th>Df Model:</th>              <td>     1</td>      <th>                     </th>     <td> </td>    \n",
       "</tr>\n",
       "<tr>\n",
       "  <th>Covariance Type:</th>      <td>nonrobust</td>    <th>                     </th>     <td> </td>    \n",
       "</tr>\n",
       "</table>\n",
       "<table class=\"simpletable\">\n",
       "<tr>\n",
       "        <td></td>          <th>coef</th>     <th>std err</th>      <th>t</th>      <th>P>|t|</th>  <th>[0.025</th>    <th>0.975]</th>  \n",
       "</tr>\n",
       "<tr>\n",
       "  <th>const</th>        <td>    6.4690</td> <td>    0.084</td> <td>   76.699</td> <td> 0.000</td> <td>    6.304</td> <td>    6.634</td>\n",
       "</tr>\n",
       "<tr>\n",
       "  <th>Shell Weight</th> <td>    0.5126</td> <td>    0.011</td> <td>   47.672</td> <td> 0.000</td> <td>    0.492</td> <td>    0.534</td>\n",
       "</tr>\n",
       "</table>\n",
       "<table class=\"simpletable\">\n",
       "<tr>\n",
       "  <th>Omnibus:</th>       <td>1019.872</td> <th>  Durbin-Watson:     </th> <td>   1.995</td>\n",
       "</tr>\n",
       "<tr>\n",
       "  <th>Prob(Omnibus):</th>  <td> 0.000</td>  <th>  Jarque-Bera (JB):  </th> <td>3069.981</td>\n",
       "</tr>\n",
       "<tr>\n",
       "  <th>Skew:</th>           <td> 1.496</td>  <th>  Prob(JB):          </th> <td>    0.00</td>\n",
       "</tr>\n",
       "<tr>\n",
       "  <th>Kurtosis:</th>       <td> 6.475</td>  <th>  Cond. No.          </th> <td>    15.8</td>\n",
       "</tr>\n",
       "</table><br/><br/>Notes:<br/>[1] Standard Errors assume that the covariance matrix of the errors is correctly specified."
      ],
      "text/plain": [
       "<class 'statsmodels.iolib.summary.Summary'>\n",
       "\"\"\"\n",
       "                            OLS Regression Results                            \n",
       "==============================================================================\n",
       "Dep. Variable:                    Age   R-squared:                       0.394\n",
       "Model:                            OLS   Adj. R-squared:                  0.393\n",
       "Method:                 Least Squares   F-statistic:                     2273.\n",
       "Date:                Wed, 19 Jan 2022   Prob (F-statistic):               0.00\n",
       "Time:                        19:28:02   Log-Likelihood:                -8180.4\n",
       "No. Observations:                3503   AIC:                         1.636e+04\n",
       "Df Residuals:                    3501   BIC:                         1.638e+04\n",
       "Df Model:                           1                                         \n",
       "Covariance Type:            nonrobust                                         \n",
       "================================================================================\n",
       "                   coef    std err          t      P>|t|      [0.025      0.975]\n",
       "--------------------------------------------------------------------------------\n",
       "const            6.4690      0.084     76.699      0.000       6.304       6.634\n",
       "Shell Weight     0.5126      0.011     47.672      0.000       0.492       0.534\n",
       "==============================================================================\n",
       "Omnibus:                     1019.872   Durbin-Watson:                   1.995\n",
       "Prob(Omnibus):                  0.000   Jarque-Bera (JB):             3069.981\n",
       "Skew:                           1.496   Prob(JB):                         0.00\n",
       "Kurtosis:                       6.475   Cond. No.                         15.8\n",
       "==============================================================================\n",
       "\n",
       "Notes:\n",
       "[1] Standard Errors assume that the covariance matrix of the errors is correctly specified.\n",
       "\"\"\""
      ]
     },
     "execution_count": 22,
     "metadata": {},
     "output_type": "execute_result"
    }
   ],
   "source": [
    "lr_1[7].summary()"
   ]
  },
  {
   "cell_type": "markdown",
   "metadata": {},
   "source": [
    "# Trying Multiple Linear Regression"
   ]
  },
  {
   "cell_type": "code",
   "execution_count": 23,
   "metadata": {},
   "outputs": [
    {
     "data": {
      "text/html": [
       "<table class=\"simpletable\">\n",
       "<caption>OLS Regression Results</caption>\n",
       "<tr>\n",
       "  <th>Dep. Variable:</th>           <td>Age</td>       <th>  R-squared:         </th> <td>   0.531</td> \n",
       "</tr>\n",
       "<tr>\n",
       "  <th>Model:</th>                   <td>OLS</td>       <th>  Adj. R-squared:    </th> <td>   0.530</td> \n",
       "</tr>\n",
       "<tr>\n",
       "  <th>Method:</th>             <td>Least Squares</td>  <th>  F-statistic:       </th> <td>   565.8</td> \n",
       "</tr>\n",
       "<tr>\n",
       "  <th>Date:</th>             <td>Wed, 19 Jan 2022</td> <th>  Prob (F-statistic):</th>  <td>  0.00</td>  \n",
       "</tr>\n",
       "<tr>\n",
       "  <th>Time:</th>                 <td>19:28:02</td>     <th>  Log-Likelihood:    </th> <td> -7729.6</td> \n",
       "</tr>\n",
       "<tr>\n",
       "  <th>No. Observations:</th>      <td>  3503</td>      <th>  AIC:               </th> <td>1.548e+04</td>\n",
       "</tr>\n",
       "<tr>\n",
       "  <th>Df Residuals:</th>          <td>  3495</td>      <th>  BIC:               </th> <td>1.552e+04</td>\n",
       "</tr>\n",
       "<tr>\n",
       "  <th>Df Model:</th>              <td>     7</td>      <th>                     </th>     <td> </td>    \n",
       "</tr>\n",
       "<tr>\n",
       "  <th>Covariance Type:</th>      <td>nonrobust</td>    <th>                     </th>     <td> </td>    \n",
       "</tr>\n",
       "</table>\n",
       "<table class=\"simpletable\">\n",
       "<tr>\n",
       "         <td></td>           <th>coef</th>     <th>std err</th>      <th>t</th>      <th>P>|t|</th>  <th>[0.025</th>    <th>0.975]</th>  \n",
       "</tr>\n",
       "<tr>\n",
       "  <th>const</th>          <td>    3.0836</td> <td>    0.273</td> <td>   11.307</td> <td> 0.000</td> <td>    2.549</td> <td>    3.618</td>\n",
       "</tr>\n",
       "<tr>\n",
       "  <th>Sex</th>            <td>    0.3948</td> <td>    0.055</td> <td>    7.136</td> <td> 0.000</td> <td>    0.286</td> <td>    0.503</td>\n",
       "</tr>\n",
       "<tr>\n",
       "  <th>Diameter</th>       <td>    4.4121</td> <td>    0.439</td> <td>   10.054</td> <td> 0.000</td> <td>    3.552</td> <td>    5.272</td>\n",
       "</tr>\n",
       "<tr>\n",
       "  <th>Height</th>         <td>    4.0542</td> <td>    0.657</td> <td>    6.169</td> <td> 0.000</td> <td>    2.766</td> <td>    5.343</td>\n",
       "</tr>\n",
       "<tr>\n",
       "  <th>Weight</th>         <td>    0.3240</td> <td>    0.028</td> <td>   11.576</td> <td> 0.000</td> <td>    0.269</td> <td>    0.379</td>\n",
       "</tr>\n",
       "<tr>\n",
       "  <th>Shucked Weight</th> <td>   -0.6902</td> <td>    0.031</td> <td>  -22.146</td> <td> 0.000</td> <td>   -0.751</td> <td>   -0.629</td>\n",
       "</tr>\n",
       "<tr>\n",
       "  <th>Viscera Weight</th> <td>   -0.3889</td> <td>    0.050</td> <td>   -7.731</td> <td> 0.000</td> <td>   -0.488</td> <td>   -0.290</td>\n",
       "</tr>\n",
       "<tr>\n",
       "  <th>Shell Weight</th>   <td>    0.2877</td> <td>    0.043</td> <td>    6.614</td> <td> 0.000</td> <td>    0.202</td> <td>    0.373</td>\n",
       "</tr>\n",
       "</table>\n",
       "<table class=\"simpletable\">\n",
       "<tr>\n",
       "  <th>Omnibus:</th>       <td>775.817</td> <th>  Durbin-Watson:     </th> <td>   1.996</td>\n",
       "</tr>\n",
       "<tr>\n",
       "  <th>Prob(Omnibus):</th> <td> 0.000</td>  <th>  Jarque-Bera (JB):  </th> <td>2208.401</td>\n",
       "</tr>\n",
       "<tr>\n",
       "  <th>Skew:</th>          <td> 1.153</td>  <th>  Prob(JB):          </th> <td>    0.00</td>\n",
       "</tr>\n",
       "<tr>\n",
       "  <th>Kurtosis:</th>      <td> 6.132</td>  <th>  Cond. No.          </th> <td>    572.</td>\n",
       "</tr>\n",
       "</table><br/><br/>Notes:<br/>[1] Standard Errors assume that the covariance matrix of the errors is correctly specified."
      ],
      "text/plain": [
       "<class 'statsmodels.iolib.summary.Summary'>\n",
       "\"\"\"\n",
       "                            OLS Regression Results                            \n",
       "==============================================================================\n",
       "Dep. Variable:                    Age   R-squared:                       0.531\n",
       "Model:                            OLS   Adj. R-squared:                  0.530\n",
       "Method:                 Least Squares   F-statistic:                     565.8\n",
       "Date:                Wed, 19 Jan 2022   Prob (F-statistic):               0.00\n",
       "Time:                        19:28:02   Log-Likelihood:                -7729.6\n",
       "No. Observations:                3503   AIC:                         1.548e+04\n",
       "Df Residuals:                    3495   BIC:                         1.552e+04\n",
       "Df Model:                           7                                         \n",
       "Covariance Type:            nonrobust                                         \n",
       "==================================================================================\n",
       "                     coef    std err          t      P>|t|      [0.025      0.975]\n",
       "----------------------------------------------------------------------------------\n",
       "const              3.0836      0.273     11.307      0.000       2.549       3.618\n",
       "Sex                0.3948      0.055      7.136      0.000       0.286       0.503\n",
       "Diameter           4.4121      0.439     10.054      0.000       3.552       5.272\n",
       "Height             4.0542      0.657      6.169      0.000       2.766       5.343\n",
       "Weight             0.3240      0.028     11.576      0.000       0.269       0.379\n",
       "Shucked Weight    -0.6902      0.031    -22.146      0.000      -0.751      -0.629\n",
       "Viscera Weight    -0.3889      0.050     -7.731      0.000      -0.488      -0.290\n",
       "Shell Weight       0.2877      0.043      6.614      0.000       0.202       0.373\n",
       "==============================================================================\n",
       "Omnibus:                      775.817   Durbin-Watson:                   1.996\n",
       "Prob(Omnibus):                  0.000   Jarque-Bera (JB):             2208.401\n",
       "Skew:                           1.153   Prob(JB):                         0.00\n",
       "Kurtosis:                       6.132   Cond. No.                         572.\n",
       "==============================================================================\n",
       "\n",
       "Notes:\n",
       "[1] Standard Errors assume that the covariance matrix of the errors is correctly specified.\n",
       "\"\"\""
      ]
     },
     "execution_count": 23,
     "metadata": {},
     "output_type": "execute_result"
    }
   ],
   "source": [
    "X_train_cpy = X_train.drop(['Unnamed: 0','Length'],axis=1)\n",
    "X_train_lm = sm.add_constant(X_train_cpy)\n",
    "lr_1 = sm.OLS(Y_train, X_train_lm).fit()\n",
    "lr_1.summary()"
   ]
  },
  {
   "cell_type": "code",
   "execution_count": 24,
   "metadata": {},
   "outputs": [
    {
     "data": {
      "text/html": [
       "<table class=\"simpletable\">\n",
       "<caption>OLS Regression Results</caption>\n",
       "<tr>\n",
       "  <th>Dep. Variable:</th>           <td>Age</td>       <th>  R-squared:         </th> <td>   0.531</td> \n",
       "</tr>\n",
       "<tr>\n",
       "  <th>Model:</th>                   <td>OLS</td>       <th>  Adj. R-squared:    </th> <td>   0.530</td> \n",
       "</tr>\n",
       "<tr>\n",
       "  <th>Method:</th>             <td>Least Squares</td>  <th>  F-statistic:       </th> <td>   495.1</td> \n",
       "</tr>\n",
       "<tr>\n",
       "  <th>Date:</th>             <td>Wed, 19 Jan 2022</td> <th>  Prob (F-statistic):</th>  <td>  0.00</td>  \n",
       "</tr>\n",
       "<tr>\n",
       "  <th>Time:</th>                 <td>19:28:02</td>     <th>  Log-Likelihood:    </th> <td> -7729.3</td> \n",
       "</tr>\n",
       "<tr>\n",
       "  <th>No. Observations:</th>      <td>  3503</td>      <th>  AIC:               </th> <td>1.548e+04</td>\n",
       "</tr>\n",
       "<tr>\n",
       "  <th>Df Residuals:</th>          <td>  3494</td>      <th>  BIC:               </th> <td>1.553e+04</td>\n",
       "</tr>\n",
       "<tr>\n",
       "  <th>Df Model:</th>              <td>     8</td>      <th>                     </th>     <td> </td>    \n",
       "</tr>\n",
       "<tr>\n",
       "  <th>Covariance Type:</th>      <td>nonrobust</td>    <th>                     </th>     <td> </td>    \n",
       "</tr>\n",
       "</table>\n",
       "<table class=\"simpletable\">\n",
       "<tr>\n",
       "         <td></td>           <th>coef</th>     <th>std err</th>      <th>t</th>      <th>P>|t|</th>  <th>[0.025</th>    <th>0.975]</th>  \n",
       "</tr>\n",
       "<tr>\n",
       "  <th>const</th>          <td>    3.1704</td> <td>    0.296</td> <td>   10.728</td> <td> 0.000</td> <td>    2.591</td> <td>    3.750</td>\n",
       "</tr>\n",
       "<tr>\n",
       "  <th>Sex</th>            <td>    0.3920</td> <td>    0.055</td> <td>    7.072</td> <td> 0.000</td> <td>    0.283</td> <td>    0.501</td>\n",
       "</tr>\n",
       "<tr>\n",
       "  <th>Length</th>         <td>   -0.6022</td> <td>    0.790</td> <td>   -0.762</td> <td> 0.446</td> <td>   -2.151</td> <td>    0.947</td>\n",
       "</tr>\n",
       "<tr>\n",
       "  <th>Diameter</th>       <td>    5.0724</td> <td>    0.971</td> <td>    5.224</td> <td> 0.000</td> <td>    3.168</td> <td>    6.976</td>\n",
       "</tr>\n",
       "<tr>\n",
       "  <th>Height</th>         <td>    4.0706</td> <td>    0.658</td> <td>    6.190</td> <td> 0.000</td> <td>    2.781</td> <td>    5.360</td>\n",
       "</tr>\n",
       "<tr>\n",
       "  <th>Weight</th>         <td>    0.3236</td> <td>    0.028</td> <td>   11.558</td> <td> 0.000</td> <td>    0.269</td> <td>    0.378</td>\n",
       "</tr>\n",
       "<tr>\n",
       "  <th>Shucked Weight</th> <td>   -0.6882</td> <td>    0.031</td> <td>  -22.004</td> <td> 0.000</td> <td>   -0.749</td> <td>   -0.627</td>\n",
       "</tr>\n",
       "<tr>\n",
       "  <th>Viscera Weight</th> <td>   -0.3849</td> <td>    0.051</td> <td>   -7.611</td> <td> 0.000</td> <td>   -0.484</td> <td>   -0.286</td>\n",
       "</tr>\n",
       "<tr>\n",
       "  <th>Shell Weight</th>   <td>    0.2870</td> <td>    0.044</td> <td>    6.595</td> <td> 0.000</td> <td>    0.202</td> <td>    0.372</td>\n",
       "</tr>\n",
       "</table>\n",
       "<table class=\"simpletable\">\n",
       "<tr>\n",
       "  <th>Omnibus:</th>       <td>772.733</td> <th>  Durbin-Watson:     </th> <td>   1.996</td>\n",
       "</tr>\n",
       "<tr>\n",
       "  <th>Prob(Omnibus):</th> <td> 0.000</td>  <th>  Jarque-Bera (JB):  </th> <td>2195.938</td>\n",
       "</tr>\n",
       "<tr>\n",
       "  <th>Skew:</th>          <td> 1.149</td>  <th>  Prob(JB):          </th> <td>    0.00</td>\n",
       "</tr>\n",
       "<tr>\n",
       "  <th>Kurtosis:</th>      <td> 6.124</td>  <th>  Cond. No.          </th> <td>1.03e+03</td>\n",
       "</tr>\n",
       "</table><br/><br/>Notes:<br/>[1] Standard Errors assume that the covariance matrix of the errors is correctly specified.<br/>[2] The condition number is large, 1.03e+03. This might indicate that there are<br/>strong multicollinearity or other numerical problems."
      ],
      "text/plain": [
       "<class 'statsmodels.iolib.summary.Summary'>\n",
       "\"\"\"\n",
       "                            OLS Regression Results                            \n",
       "==============================================================================\n",
       "Dep. Variable:                    Age   R-squared:                       0.531\n",
       "Model:                            OLS   Adj. R-squared:                  0.530\n",
       "Method:                 Least Squares   F-statistic:                     495.1\n",
       "Date:                Wed, 19 Jan 2022   Prob (F-statistic):               0.00\n",
       "Time:                        19:28:02   Log-Likelihood:                -7729.3\n",
       "No. Observations:                3503   AIC:                         1.548e+04\n",
       "Df Residuals:                    3494   BIC:                         1.553e+04\n",
       "Df Model:                           8                                         \n",
       "Covariance Type:            nonrobust                                         \n",
       "==================================================================================\n",
       "                     coef    std err          t      P>|t|      [0.025      0.975]\n",
       "----------------------------------------------------------------------------------\n",
       "const              3.1704      0.296     10.728      0.000       2.591       3.750\n",
       "Sex                0.3920      0.055      7.072      0.000       0.283       0.501\n",
       "Length            -0.6022      0.790     -0.762      0.446      -2.151       0.947\n",
       "Diameter           5.0724      0.971      5.224      0.000       3.168       6.976\n",
       "Height             4.0706      0.658      6.190      0.000       2.781       5.360\n",
       "Weight             0.3236      0.028     11.558      0.000       0.269       0.378\n",
       "Shucked Weight    -0.6882      0.031    -22.004      0.000      -0.749      -0.627\n",
       "Viscera Weight    -0.3849      0.051     -7.611      0.000      -0.484      -0.286\n",
       "Shell Weight       0.2870      0.044      6.595      0.000       0.202       0.372\n",
       "==============================================================================\n",
       "Omnibus:                      772.733   Durbin-Watson:                   1.996\n",
       "Prob(Omnibus):                  0.000   Jarque-Bera (JB):             2195.938\n",
       "Skew:                           1.149   Prob(JB):                         0.00\n",
       "Kurtosis:                       6.124   Cond. No.                     1.03e+03\n",
       "==============================================================================\n",
       "\n",
       "Notes:\n",
       "[1] Standard Errors assume that the covariance matrix of the errors is correctly specified.\n",
       "[2] The condition number is large, 1.03e+03. This might indicate that there are\n",
       "strong multicollinearity or other numerical problems.\n",
       "\"\"\""
      ]
     },
     "execution_count": 24,
     "metadata": {},
     "output_type": "execute_result"
    }
   ],
   "source": [
    "X_train_cpy = X_train.drop(['Unnamed: 0'],axis=1)\n",
    "X_train_lm = sm.add_constant(X_train_cpy)\n",
    "lr_1 = sm.OLS(Y_train, X_train_lm).fit()\n",
    "lr_1.summary()"
   ]
  },
  {
   "cell_type": "code",
   "execution_count": 25,
   "metadata": {},
   "outputs": [
    {
     "data": {
      "text/html": [
       "<div>\n",
       "<style scoped>\n",
       "    .dataframe tbody tr th:only-of-type {\n",
       "        vertical-align: middle;\n",
       "    }\n",
       "\n",
       "    .dataframe tbody tr th {\n",
       "        vertical-align: top;\n",
       "    }\n",
       "\n",
       "    .dataframe thead th {\n",
       "        text-align: right;\n",
       "    }\n",
       "</style>\n",
       "<table border=\"1\" class=\"dataframe\">\n",
       "  <thead>\n",
       "    <tr style=\"text-align: right;\">\n",
       "      <th></th>\n",
       "      <th>Features</th>\n",
       "      <th>VIF</th>\n",
       "    </tr>\n",
       "  </thead>\n",
       "  <tbody>\n",
       "    <tr>\n",
       "      <th>3</th>\n",
       "      <td>Diameter</td>\n",
       "      <td>752.93</td>\n",
       "    </tr>\n",
       "    <tr>\n",
       "      <th>2</th>\n",
       "      <td>Length</td>\n",
       "      <td>702.10</td>\n",
       "    </tr>\n",
       "    <tr>\n",
       "      <th>5</th>\n",
       "      <td>Weight</td>\n",
       "      <td>421.60</td>\n",
       "    </tr>\n",
       "    <tr>\n",
       "      <th>6</th>\n",
       "      <td>Shucked Weight</td>\n",
       "      <td>99.92</td>\n",
       "    </tr>\n",
       "    <tr>\n",
       "      <th>8</th>\n",
       "      <td>Shell Weight</td>\n",
       "      <td>82.13</td>\n",
       "    </tr>\n",
       "    <tr>\n",
       "      <th>7</th>\n",
       "      <td>Viscera Weight</td>\n",
       "      <td>65.18</td>\n",
       "    </tr>\n",
       "    <tr>\n",
       "      <th>4</th>\n",
       "      <td>Height</td>\n",
       "      <td>40.70</td>\n",
       "    </tr>\n",
       "    <tr>\n",
       "      <th>0</th>\n",
       "      <td>Unnamed: 0</td>\n",
       "      <td>3.83</td>\n",
       "    </tr>\n",
       "    <tr>\n",
       "      <th>1</th>\n",
       "      <td>Sex</td>\n",
       "      <td>3.61</td>\n",
       "    </tr>\n",
       "  </tbody>\n",
       "</table>\n",
       "</div>"
      ],
      "text/plain": [
       "         Features     VIF\n",
       "3        Diameter  752.93\n",
       "2          Length  702.10\n",
       "5          Weight  421.60\n",
       "6  Shucked Weight   99.92\n",
       "8    Shell Weight   82.13\n",
       "7  Viscera Weight   65.18\n",
       "4          Height   40.70\n",
       "0      Unnamed: 0    3.83\n",
       "1             Sex    3.61"
      ]
     },
     "execution_count": 25,
     "metadata": {},
     "output_type": "execute_result"
    }
   ],
   "source": [
    "from statsmodels.stats.outliers_influence import variance_inflation_factor\n",
    "\n",
    "# Creating a dataframe that will contain the names of all the feature variables and their VIFs\n",
    "vif = pd.DataFrame()\n",
    "vif['Features'] = X_train.columns\n",
    "vif['VIF'] = [variance_inflation_factor(X_train.values, i) for i in range(X_train.shape[1])]\n",
    "vif['VIF'] = round(vif['VIF'], 2)\n",
    "vif = vif.sort_values(by = \"VIF\", ascending = False)\n",
    "vif"
   ]
  },
  {
   "cell_type": "markdown",
   "metadata": {},
   "source": [
    "# Final Model"
   ]
  },
  {
   "cell_type": "code",
   "execution_count": 26,
   "metadata": {},
   "outputs": [
    {
     "data": {
      "text/plain": [
       "LinearRegression()"
      ]
     },
     "execution_count": 26,
     "metadata": {},
     "output_type": "execute_result"
    }
   ],
   "source": [
    "lm = LinearRegression()\n",
    "lm.fit(X_train, Y_train)"
   ]
  },
  {
   "cell_type": "code",
   "execution_count": 27,
   "metadata": {},
   "outputs": [
    {
     "data": {
      "text/plain": [
       "0.5313169996990783"
      ]
     },
     "execution_count": 27,
     "metadata": {},
     "output_type": "execute_result"
    }
   ],
   "source": [
    "lm.score(X_train,Y_train)"
   ]
  },
  {
   "cell_type": "code",
   "execution_count": 28,
   "metadata": {},
   "outputs": [
    {
     "data": {
      "text/plain": [
       "0.5344052587497008"
      ]
     },
     "execution_count": 28,
     "metadata": {},
     "output_type": "execute_result"
    }
   ],
   "source": [
    "lm.score(X_test,Y_test)"
   ]
  },
  {
   "cell_type": "code",
   "execution_count": 29,
   "metadata": {},
   "outputs": [
    {
     "data": {
      "text/plain": [
       "16923.137004365493"
      ]
     },
     "execution_count": 29,
     "metadata": {},
     "output_type": "execute_result"
    }
   ],
   "source": [
    "lm._residues"
   ]
  },
  {
   "cell_type": "code",
   "execution_count": 30,
   "metadata": {},
   "outputs": [],
   "source": [
    "predictions = lm.predict(X_test)"
   ]
  },
  {
   "cell_type": "code",
   "execution_count": 31,
   "metadata": {},
   "outputs": [
    {
     "name": "stdout",
     "output_type": "stream",
     "text": [
      "MEA 1.6238081231306178\n"
     ]
    }
   ],
   "source": [
    "from sklearn import metrics\n",
    "print(\"MEA\", metrics.mean_absolute_error(Y_test, predictions))"
   ]
  },
  {
   "cell_type": "code",
   "execution_count": 32,
   "metadata": {},
   "outputs": [
    {
     "name": "stdout",
     "output_type": "stream",
     "text": [
      "MSE 5.096444117701278\n"
     ]
    }
   ],
   "source": [
    "print(\"MSE\", metrics.mean_squared_error(Y_test, predictions))"
   ]
  },
  {
   "cell_type": "code",
   "execution_count": 33,
   "metadata": {},
   "outputs": [
    {
     "name": "stdout",
     "output_type": "stream",
     "text": [
      "RMSE 2.257530535275498\n"
     ]
    }
   ],
   "source": [
    "print(\"RMSE\", np.sqrt(metrics.mean_squared_error(Y_test, predictions)))"
   ]
  },
  {
   "cell_type": "markdown",
   "metadata": {},
   "source": [
    "# Saving the Model using Pickle"
   ]
  },
  {
   "cell_type": "code",
   "execution_count": 34,
   "metadata": {},
   "outputs": [],
   "source": [
    "import pickle"
   ]
  },
  {
   "cell_type": "code",
   "execution_count": 37,
   "metadata": {},
   "outputs": [],
   "source": [
    "pickle.dump(lm,open(r\"C:\\Users\\mitug\\ML-Project-Regression\\models\\model.pkl\",\"wb\"))"
   ]
  }
 ],
 "metadata": {
  "interpreter": {
   "hash": "a55ab4ece29384b9da2602029a0f6ed5cbe09323f95f9aa4d8fe2db970f11356"
  },
  "kernelspec": {
   "display_name": "Python 3.9.1 64-bit",
   "language": "python",
   "name": "python3"
  },
  "language_info": {
   "codemirror_mode": {
    "name": "ipython",
    "version": 3
   },
   "file_extension": ".py",
   "mimetype": "text/x-python",
   "name": "python",
   "nbconvert_exporter": "python",
   "pygments_lexer": "ipython3",
   "version": "3.9.1"
  },
  "orig_nbformat": 4
 },
 "nbformat": 4,
 "nbformat_minor": 2
}
